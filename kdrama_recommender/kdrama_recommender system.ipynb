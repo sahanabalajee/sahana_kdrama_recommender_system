{
 "cells": [
  {
   "cell_type": "code",
   "execution_count": 1,
   "id": "e4c1a592",
   "metadata": {},
   "outputs": [],
   "source": [
    "import numpy as np\n",
    "import pandas as pd"
   ]
  },
  {
   "cell_type": "code",
   "execution_count": 2,
   "id": "af053a0d",
   "metadata": {},
   "outputs": [],
   "source": [
    "kdramas = pd.read_csv(\"kdrama.csv\")"
   ]
  },
  {
   "cell_type": "code",
   "execution_count": 3,
   "id": "9bf93b42",
   "metadata": {},
   "outputs": [
    {
     "data": {
      "text/html": [
       "<div>\n",
       "<style scoped>\n",
       "    .dataframe tbody tr th:only-of-type {\n",
       "        vertical-align: middle;\n",
       "    }\n",
       "\n",
       "    .dataframe tbody tr th {\n",
       "        vertical-align: top;\n",
       "    }\n",
       "\n",
       "    .dataframe thead th {\n",
       "        text-align: right;\n",
       "    }\n",
       "</style>\n",
       "<table border=\"1\" class=\"dataframe\">\n",
       "  <thead>\n",
       "    <tr style=\"text-align: right;\">\n",
       "      <th></th>\n",
       "      <th>Name</th>\n",
       "      <th>Aired Date</th>\n",
       "      <th>Year of release</th>\n",
       "      <th>Original Network</th>\n",
       "      <th>Aired On</th>\n",
       "      <th>Number of Episodes</th>\n",
       "      <th>Duration</th>\n",
       "      <th>Content Rating</th>\n",
       "      <th>Rating</th>\n",
       "      <th>Synopsis</th>\n",
       "      <th>Genre</th>\n",
       "      <th>Tags</th>\n",
       "      <th>Director</th>\n",
       "      <th>Screenwriter</th>\n",
       "      <th>Cast</th>\n",
       "      <th>Production companies</th>\n",
       "      <th>Rank</th>\n",
       "    </tr>\n",
       "  </thead>\n",
       "  <tbody>\n",
       "    <tr>\n",
       "      <th>0</th>\n",
       "      <td>Move to Heaven</td>\n",
       "      <td>May 14, 2021</td>\n",
       "      <td>2021</td>\n",
       "      <td>Netflix</td>\n",
       "      <td>Friday</td>\n",
       "      <td>10</td>\n",
       "      <td>52 min.</td>\n",
       "      <td>18+ Restricted (violence &amp; profanity)</td>\n",
       "      <td>9.2</td>\n",
       "      <td>Geu Roo is a young autistic man. He works for ...</td>\n",
       "      <td>Life,  Drama,  Family</td>\n",
       "      <td>Autism, Uncle-Nephew Relationship, Death, Sava...</td>\n",
       "      <td>Kim Sung Ho</td>\n",
       "      <td>Yoon Ji Ryun</td>\n",
       "      <td>Lee Je Hoon, Tang Jun Sang, Hong Seung Hee, Ju...</td>\n",
       "      <td>Page One Film, Number Three Pictures</td>\n",
       "      <td>#1</td>\n",
       "    </tr>\n",
       "    <tr>\n",
       "      <th>1</th>\n",
       "      <td>Flower of Evil</td>\n",
       "      <td>Jul 29, 2020 - Sep 23, 2020</td>\n",
       "      <td>2020</td>\n",
       "      <td>tvN</td>\n",
       "      <td>Wednesday, Thursday</td>\n",
       "      <td>16</td>\n",
       "      <td>1 hr. 10 min.</td>\n",
       "      <td>15+ - Teens 15 or older</td>\n",
       "      <td>9.1</td>\n",
       "      <td>Although Baek Hee Sung is hiding a dark secret...</td>\n",
       "      <td>Thriller,  Romance,  Crime,  Melodrama</td>\n",
       "      <td>Married Couple, Deception, Suspense, Family Se...</td>\n",
       "      <td>Kim Chul Gyu, Yoon Jong Ho</td>\n",
       "      <td>Yoo Jung Hee</td>\n",
       "      <td>Lee Joon Gi, Moon Chae Won, Jang Hee Jin, Seo ...</td>\n",
       "      <td>Monster Union</td>\n",
       "      <td>#2</td>\n",
       "    </tr>\n",
       "    <tr>\n",
       "      <th>2</th>\n",
       "      <td>Hospital Playlist</td>\n",
       "      <td>Mar 12, 2020 - May 28, 2020</td>\n",
       "      <td>2020</td>\n",
       "      <td>Netflix,  tvN</td>\n",
       "      <td>Thursday</td>\n",
       "      <td>12</td>\n",
       "      <td>1 hr. 30 min.</td>\n",
       "      <td>15+ - Teens 15 or older</td>\n",
       "      <td>9.1</td>\n",
       "      <td>The stories of people going through their days...</td>\n",
       "      <td>Friendship,  Romance,  Life,  Medical</td>\n",
       "      <td>Strong Friendship, Multiple Mains, Best Friend...</td>\n",
       "      <td>Shin Won Ho</td>\n",
       "      <td>Lee Woo Jung</td>\n",
       "      <td>Jo Jung Suk, Yoo Yeon Seok, Jung Kyung Ho, Kim...</td>\n",
       "      <td>Egg Is Coming, CJ ENM</td>\n",
       "      <td>#3</td>\n",
       "    </tr>\n",
       "    <tr>\n",
       "      <th>3</th>\n",
       "      <td>Hospital Playlist 2</td>\n",
       "      <td>Jun 17, 2021 - Sep 16, 2021</td>\n",
       "      <td>2021</td>\n",
       "      <td>Netflix,  tvN</td>\n",
       "      <td>Thursday</td>\n",
       "      <td>12</td>\n",
       "      <td>1 hr. 40 min.</td>\n",
       "      <td>15+ - Teens 15 or older</td>\n",
       "      <td>9.1</td>\n",
       "      <td>Everyday is extraordinary for five doctors and...</td>\n",
       "      <td>Friendship,  Romance,  Life,  Medical</td>\n",
       "      <td>Workplace, Strong Friendship, Best Friends, Mu...</td>\n",
       "      <td>Shin Won Ho</td>\n",
       "      <td>Lee Woo Jung</td>\n",
       "      <td>Jo Jung Suk, Yoo Yeon Seok, Jung Kyung Ho, Kim...</td>\n",
       "      <td>Egg Is Coming, CJ ENM</td>\n",
       "      <td>#4</td>\n",
       "    </tr>\n",
       "    <tr>\n",
       "      <th>4</th>\n",
       "      <td>My Mister</td>\n",
       "      <td>Mar 21, 2018 - May 17, 2018</td>\n",
       "      <td>2018</td>\n",
       "      <td>tvN</td>\n",
       "      <td>Wednesday, Thursday</td>\n",
       "      <td>16</td>\n",
       "      <td>1 hr. 17 min.</td>\n",
       "      <td>15+ - Teens 15 or older</td>\n",
       "      <td>9.1</td>\n",
       "      <td>Park Dong Hoon is a middle-aged engineer who i...</td>\n",
       "      <td>Psychological,  Life,  Drama,  Family</td>\n",
       "      <td>Age Gap, Nice Male Lead, Strong Female Lead, H...</td>\n",
       "      <td>Kim Won Suk, Kim Sang Woo</td>\n",
       "      <td>Park Hae Young</td>\n",
       "      <td>Lee Sun Kyun, IU, Park Ho San, Song Sae Byuk, ...</td>\n",
       "      <td>Chorokbaem Media</td>\n",
       "      <td>#5</td>\n",
       "    </tr>\n",
       "  </tbody>\n",
       "</table>\n",
       "</div>"
      ],
      "text/plain": [
       "                  Name                   Aired Date  Year of release  \\\n",
       "0       Move to Heaven                 May 14, 2021             2021   \n",
       "1       Flower of Evil  Jul 29, 2020 - Sep 23, 2020             2020   \n",
       "2    Hospital Playlist  Mar 12, 2020 - May 28, 2020             2020   \n",
       "3  Hospital Playlist 2  Jun 17, 2021 - Sep 16, 2021             2021   \n",
       "4            My Mister  Mar 21, 2018 - May 17, 2018             2018   \n",
       "\n",
       "  Original Network              Aired On  Number of Episodes       Duration  \\\n",
       "0          Netflix                Friday                  10        52 min.   \n",
       "1              tvN   Wednesday, Thursday                  16  1 hr. 10 min.   \n",
       "2   Netflix,  tvN               Thursday                  12  1 hr. 30 min.   \n",
       "3   Netflix,  tvN               Thursday                  12  1 hr. 40 min.   \n",
       "4              tvN   Wednesday, Thursday                  16  1 hr. 17 min.   \n",
       "\n",
       "                          Content Rating  Rating  \\\n",
       "0  18+ Restricted (violence & profanity)     9.2   \n",
       "1                15+ - Teens 15 or older     9.1   \n",
       "2                15+ - Teens 15 or older     9.1   \n",
       "3                15+ - Teens 15 or older     9.1   \n",
       "4                15+ - Teens 15 or older     9.1   \n",
       "\n",
       "                                            Synopsis  \\\n",
       "0  Geu Roo is a young autistic man. He works for ...   \n",
       "1  Although Baek Hee Sung is hiding a dark secret...   \n",
       "2  The stories of people going through their days...   \n",
       "3  Everyday is extraordinary for five doctors and...   \n",
       "4  Park Dong Hoon is a middle-aged engineer who i...   \n",
       "\n",
       "                                     Genre  \\\n",
       "0                   Life,  Drama,  Family    \n",
       "1  Thriller,  Romance,  Crime,  Melodrama    \n",
       "2   Friendship,  Romance,  Life,  Medical    \n",
       "3   Friendship,  Romance,  Life,  Medical    \n",
       "4   Psychological,  Life,  Drama,  Family    \n",
       "\n",
       "                                                Tags  \\\n",
       "0  Autism, Uncle-Nephew Relationship, Death, Sava...   \n",
       "1  Married Couple, Deception, Suspense, Family Se...   \n",
       "2  Strong Friendship, Multiple Mains, Best Friend...   \n",
       "3  Workplace, Strong Friendship, Best Friends, Mu...   \n",
       "4  Age Gap, Nice Male Lead, Strong Female Lead, H...   \n",
       "\n",
       "                     Director    Screenwriter  \\\n",
       "0                 Kim Sung Ho    Yoon Ji Ryun   \n",
       "1  Kim Chul Gyu, Yoon Jong Ho    Yoo Jung Hee   \n",
       "2                 Shin Won Ho    Lee Woo Jung   \n",
       "3                 Shin Won Ho    Lee Woo Jung   \n",
       "4   Kim Won Suk, Kim Sang Woo  Park Hae Young   \n",
       "\n",
       "                                                Cast  \\\n",
       "0  Lee Je Hoon, Tang Jun Sang, Hong Seung Hee, Ju...   \n",
       "1  Lee Joon Gi, Moon Chae Won, Jang Hee Jin, Seo ...   \n",
       "2  Jo Jung Suk, Yoo Yeon Seok, Jung Kyung Ho, Kim...   \n",
       "3  Jo Jung Suk, Yoo Yeon Seok, Jung Kyung Ho, Kim...   \n",
       "4  Lee Sun Kyun, IU, Park Ho San, Song Sae Byuk, ...   \n",
       "\n",
       "                   Production companies Rank  \n",
       "0  Page One Film, Number Three Pictures   #1  \n",
       "1                         Monster Union   #2  \n",
       "2                 Egg Is Coming, CJ ENM   #3  \n",
       "3                 Egg Is Coming, CJ ENM   #4  \n",
       "4                      Chorokbaem Media   #5  "
      ]
     },
     "execution_count": 3,
     "metadata": {},
     "output_type": "execute_result"
    }
   ],
   "source": [
    "kdramas.head()"
   ]
  },
  {
   "cell_type": "code",
   "execution_count": 4,
   "id": "716f621d",
   "metadata": {},
   "outputs": [],
   "source": [
    "#keeping name,synopsis, genre, tags, director, screenwriter, cast\n",
    "kdramas = kdramas[['Name','Synopsis','Genre','Tags', 'Director', 'Screenwriter', 'Cast']]\n"
   ]
  },
  {
   "cell_type": "code",
   "execution_count": 6,
   "id": "7f500d42",
   "metadata": {},
   "outputs": [
    {
     "data": {
      "text/plain": [
       "Name            0\n",
       "Synopsis        0\n",
       "Genre           0\n",
       "Tags            0\n",
       "Director        1\n",
       "Screenwriter    1\n",
       "Cast            0\n",
       "dtype: int64"
      ]
     },
     "execution_count": 6,
     "metadata": {},
     "output_type": "execute_result"
    }
   ],
   "source": [
    "kdramas.isnull().sum()"
   ]
  },
  {
   "cell_type": "code",
   "execution_count": 7,
   "id": "99a10888",
   "metadata": {},
   "outputs": [],
   "source": [
    "kdramas.dropna(inplace = True)"
   ]
  },
  {
   "cell_type": "code",
   "execution_count": 13,
   "id": "d34cd1e7",
   "metadata": {},
   "outputs": [
    {
     "data": {
      "text/plain": [
       "'Life,  Drama,  Family '"
      ]
     },
     "execution_count": 13,
     "metadata": {},
     "output_type": "execute_result"
    }
   ],
   "source": [
    "kdramas.iloc[0].Genre"
   ]
  },
  {
   "cell_type": "code",
   "execution_count": 14,
   "id": "48d49b43",
   "metadata": {},
   "outputs": [],
   "source": [
    "def convert_genre(genre):\n",
    "    L= genre.split(\",\")\n",
    "    return [i.strip() for i in L]\n",
    "    "
   ]
  },
  {
   "cell_type": "code",
   "execution_count": 19,
   "id": "51c7bb20",
   "metadata": {},
   "outputs": [],
   "source": [
    "kdramas['Genre'] = kdramas['Genre'].apply(convert_genre)"
   ]
  },
  {
   "cell_type": "code",
   "execution_count": 20,
   "id": "a31b4169",
   "metadata": {},
   "outputs": [],
   "source": [
    "def convert_tags(tag):\n",
    "    L= tag.split(\",\")\n",
    "    return [i.strip() for i in L]\n",
    "kdramas['Tags'] = kdramas['Tags'].apply(convert_tags)\n",
    "    "
   ]
  },
  {
   "cell_type": "code",
   "execution_count": 21,
   "id": "70268713",
   "metadata": {},
   "outputs": [],
   "source": [
    "def convert_cast(cast):\n",
    "    L= cast.split(\",\")\n",
    "    return [i.strip() for i in L]\n",
    "kdramas['Cast'] = kdramas['Cast'].apply(convert_cast)"
   ]
  },
  {
   "cell_type": "code",
   "execution_count": 22,
   "id": "c067e5d6",
   "metadata": {},
   "outputs": [],
   "source": [
    "def convert_crew(crew):\n",
    "    return [crew.strip()]\n",
    "kdramas['Director'] = kdramas['Director'].apply(convert_crew)\n",
    "kdramas['Screenwriter'] = kdramas['Screenwriter'].apply(convert_crew)\n"
   ]
  },
  {
   "cell_type": "code",
   "execution_count": 23,
   "id": "f176a6e4",
   "metadata": {},
   "outputs": [],
   "source": [
    "kdramas['Synopsis'] = kdramas['Synopsis'].apply(lambda x : x.split())"
   ]
  },
  {
   "cell_type": "code",
   "execution_count": 24,
   "id": "7c56d6f3",
   "metadata": {},
   "outputs": [
    {
     "data": {
      "text/html": [
       "<div>\n",
       "<style scoped>\n",
       "    .dataframe tbody tr th:only-of-type {\n",
       "        vertical-align: middle;\n",
       "    }\n",
       "\n",
       "    .dataframe tbody tr th {\n",
       "        vertical-align: top;\n",
       "    }\n",
       "\n",
       "    .dataframe thead th {\n",
       "        text-align: right;\n",
       "    }\n",
       "</style>\n",
       "<table border=\"1\" class=\"dataframe\">\n",
       "  <thead>\n",
       "    <tr style=\"text-align: right;\">\n",
       "      <th></th>\n",
       "      <th>Name</th>\n",
       "      <th>Synopsis</th>\n",
       "      <th>Genre</th>\n",
       "      <th>Tags</th>\n",
       "      <th>Director</th>\n",
       "      <th>Screenwriter</th>\n",
       "      <th>Cast</th>\n",
       "    </tr>\n",
       "  </thead>\n",
       "  <tbody>\n",
       "    <tr>\n",
       "      <th>0</th>\n",
       "      <td>Move to Heaven</td>\n",
       "      <td>[Geu, Roo, is, a, young, autistic, man., He, w...</td>\n",
       "      <td>[Life, Drama, Family]</td>\n",
       "      <td>[Autism, Uncle-Nephew Relationship, Death, Sav...</td>\n",
       "      <td>[Kim Sung Ho]</td>\n",
       "      <td>[Yoon Ji Ryun]</td>\n",
       "      <td>[Lee Je Hoon, Tang Jun Sang, Hong Seung Hee, J...</td>\n",
       "    </tr>\n",
       "    <tr>\n",
       "      <th>1</th>\n",
       "      <td>Flower of Evil</td>\n",
       "      <td>[Although, Baek, Hee, Sung, is, hiding, a, dar...</td>\n",
       "      <td>[Thriller, Romance, Crime, Melodrama]</td>\n",
       "      <td>[Married Couple, Deception, Suspense, Family S...</td>\n",
       "      <td>[Kim Chul Gyu, Yoon Jong Ho]</td>\n",
       "      <td>[Yoo Jung Hee]</td>\n",
       "      <td>[Lee Joon Gi, Moon Chae Won, Jang Hee Jin, Seo...</td>\n",
       "    </tr>\n",
       "    <tr>\n",
       "      <th>2</th>\n",
       "      <td>Hospital Playlist</td>\n",
       "      <td>[The, stories, of, people, going, through, the...</td>\n",
       "      <td>[Friendship, Romance, Life, Medical]</td>\n",
       "      <td>[Strong Friendship, Multiple Mains, Best Frien...</td>\n",
       "      <td>[Shin Won Ho]</td>\n",
       "      <td>[Lee Woo Jung]</td>\n",
       "      <td>[Jo Jung Suk, Yoo Yeon Seok, Jung Kyung Ho, Ki...</td>\n",
       "    </tr>\n",
       "    <tr>\n",
       "      <th>3</th>\n",
       "      <td>Hospital Playlist 2</td>\n",
       "      <td>[Everyday, is, extraordinary, for, five, docto...</td>\n",
       "      <td>[Friendship, Romance, Life, Medical]</td>\n",
       "      <td>[Workplace, Strong Friendship, Best Friends, M...</td>\n",
       "      <td>[Shin Won Ho]</td>\n",
       "      <td>[Lee Woo Jung]</td>\n",
       "      <td>[Jo Jung Suk, Yoo Yeon Seok, Jung Kyung Ho, Ki...</td>\n",
       "    </tr>\n",
       "    <tr>\n",
       "      <th>4</th>\n",
       "      <td>My Mister</td>\n",
       "      <td>[Park, Dong, Hoon, is, a, middle-aged, enginee...</td>\n",
       "      <td>[Psychological, Life, Drama, Family]</td>\n",
       "      <td>[Age Gap, Nice Male Lead, Strong Female Lead, ...</td>\n",
       "      <td>[Kim Won Suk, Kim Sang Woo]</td>\n",
       "      <td>[Park Hae Young]</td>\n",
       "      <td>[Lee Sun Kyun, IU, Park Ho San, Song Sae Byuk,...</td>\n",
       "    </tr>\n",
       "  </tbody>\n",
       "</table>\n",
       "</div>"
      ],
      "text/plain": [
       "                  Name                                           Synopsis  \\\n",
       "0       Move to Heaven  [Geu, Roo, is, a, young, autistic, man., He, w...   \n",
       "1       Flower of Evil  [Although, Baek, Hee, Sung, is, hiding, a, dar...   \n",
       "2    Hospital Playlist  [The, stories, of, people, going, through, the...   \n",
       "3  Hospital Playlist 2  [Everyday, is, extraordinary, for, five, docto...   \n",
       "4            My Mister  [Park, Dong, Hoon, is, a, middle-aged, enginee...   \n",
       "\n",
       "                                   Genre  \\\n",
       "0                  [Life, Drama, Family]   \n",
       "1  [Thriller, Romance, Crime, Melodrama]   \n",
       "2   [Friendship, Romance, Life, Medical]   \n",
       "3   [Friendship, Romance, Life, Medical]   \n",
       "4   [Psychological, Life, Drama, Family]   \n",
       "\n",
       "                                                Tags  \\\n",
       "0  [Autism, Uncle-Nephew Relationship, Death, Sav...   \n",
       "1  [Married Couple, Deception, Suspense, Family S...   \n",
       "2  [Strong Friendship, Multiple Mains, Best Frien...   \n",
       "3  [Workplace, Strong Friendship, Best Friends, M...   \n",
       "4  [Age Gap, Nice Male Lead, Strong Female Lead, ...   \n",
       "\n",
       "                       Director      Screenwriter  \\\n",
       "0                 [Kim Sung Ho]    [Yoon Ji Ryun]   \n",
       "1  [Kim Chul Gyu, Yoon Jong Ho]    [Yoo Jung Hee]   \n",
       "2                 [Shin Won Ho]    [Lee Woo Jung]   \n",
       "3                 [Shin Won Ho]    [Lee Woo Jung]   \n",
       "4   [Kim Won Suk, Kim Sang Woo]  [Park Hae Young]   \n",
       "\n",
       "                                                Cast  \n",
       "0  [Lee Je Hoon, Tang Jun Sang, Hong Seung Hee, J...  \n",
       "1  [Lee Joon Gi, Moon Chae Won, Jang Hee Jin, Seo...  \n",
       "2  [Jo Jung Suk, Yoo Yeon Seok, Jung Kyung Ho, Ki...  \n",
       "3  [Jo Jung Suk, Yoo Yeon Seok, Jung Kyung Ho, Ki...  \n",
       "4  [Lee Sun Kyun, IU, Park Ho San, Song Sae Byuk,...  "
      ]
     },
     "execution_count": 24,
     "metadata": {},
     "output_type": "execute_result"
    }
   ],
   "source": [
    "kdramas.head()"
   ]
  },
  {
   "cell_type": "code",
   "execution_count": 26,
   "id": "8357fd92",
   "metadata": {},
   "outputs": [],
   "source": [
    "kdramas['Genre'] = kdramas['Genre'].apply(lambda x: [i.replace(' ', '') for i in x])\n",
    "kdramas['Synopsis'] = kdramas['Synopsis'].apply(lambda x: [i.replace(' ', '') for i in x])\n",
    "kdramas['Tags'] = kdramas['Tags'].apply(lambda x: [i.replace(' ', '') for i in x])\n",
    "kdramas['Director'] = kdramas['Director'].apply(lambda x: [i.replace(' ', '') for i in x])\n",
    "kdramas['Screenwriter'] = kdramas['Screenwriter'].apply(lambda x: [i.replace(' ', '') for i in x])\n",
    "kdramas['Cast'] = kdramas['Cast'].apply(lambda x: [i.replace(' ', '') for i in x])"
   ]
  },
  {
   "cell_type": "code",
   "execution_count": 27,
   "id": "4799c184",
   "metadata": {},
   "outputs": [
    {
     "data": {
      "text/html": [
       "<div>\n",
       "<style scoped>\n",
       "    .dataframe tbody tr th:only-of-type {\n",
       "        vertical-align: middle;\n",
       "    }\n",
       "\n",
       "    .dataframe tbody tr th {\n",
       "        vertical-align: top;\n",
       "    }\n",
       "\n",
       "    .dataframe thead th {\n",
       "        text-align: right;\n",
       "    }\n",
       "</style>\n",
       "<table border=\"1\" class=\"dataframe\">\n",
       "  <thead>\n",
       "    <tr style=\"text-align: right;\">\n",
       "      <th></th>\n",
       "      <th>Name</th>\n",
       "      <th>Synopsis</th>\n",
       "      <th>Genre</th>\n",
       "      <th>Tags</th>\n",
       "      <th>Director</th>\n",
       "      <th>Screenwriter</th>\n",
       "      <th>Cast</th>\n",
       "    </tr>\n",
       "  </thead>\n",
       "  <tbody>\n",
       "    <tr>\n",
       "      <th>0</th>\n",
       "      <td>Move to Heaven</td>\n",
       "      <td>[Geu, Roo, is, a, young, autistic, man., He, w...</td>\n",
       "      <td>[Life, Drama, Family]</td>\n",
       "      <td>[Autism, Uncle-NephewRelationship, Death, Sava...</td>\n",
       "      <td>[KimSungHo]</td>\n",
       "      <td>[YoonJiRyun]</td>\n",
       "      <td>[LeeJeHoon, TangJunSang, HongSeungHee, JungSuk...</td>\n",
       "    </tr>\n",
       "    <tr>\n",
       "      <th>1</th>\n",
       "      <td>Flower of Evil</td>\n",
       "      <td>[Although, Baek, Hee, Sung, is, hiding, a, dar...</td>\n",
       "      <td>[Thriller, Romance, Crime, Melodrama]</td>\n",
       "      <td>[MarriedCouple, Deception, Suspense, FamilySec...</td>\n",
       "      <td>[KimChulGyu,YoonJongHo]</td>\n",
       "      <td>[YooJungHee]</td>\n",
       "      <td>[LeeJoonGi, MoonChaeWon, JangHeeJin, SeoHyunWo...</td>\n",
       "    </tr>\n",
       "    <tr>\n",
       "      <th>2</th>\n",
       "      <td>Hospital Playlist</td>\n",
       "      <td>[The, stories, of, people, going, through, the...</td>\n",
       "      <td>[Friendship, Romance, Life, Medical]</td>\n",
       "      <td>[StrongFriendship, MultipleMains, BestFriends,...</td>\n",
       "      <td>[ShinWonHo]</td>\n",
       "      <td>[LeeWooJung]</td>\n",
       "      <td>[JoJungSuk, YooYeonSeok, JungKyungHo, KimDaeMy...</td>\n",
       "    </tr>\n",
       "    <tr>\n",
       "      <th>3</th>\n",
       "      <td>Hospital Playlist 2</td>\n",
       "      <td>[Everyday, is, extraordinary, for, five, docto...</td>\n",
       "      <td>[Friendship, Romance, Life, Medical]</td>\n",
       "      <td>[Workplace, StrongFriendship, BestFriends, Mul...</td>\n",
       "      <td>[ShinWonHo]</td>\n",
       "      <td>[LeeWooJung]</td>\n",
       "      <td>[JoJungSuk, YooYeonSeok, JungKyungHo, KimDaeMy...</td>\n",
       "    </tr>\n",
       "    <tr>\n",
       "      <th>4</th>\n",
       "      <td>My Mister</td>\n",
       "      <td>[Park, Dong, Hoon, is, a, middle-aged, enginee...</td>\n",
       "      <td>[Psychological, Life, Drama, Family]</td>\n",
       "      <td>[AgeGap, NiceMaleLead, StrongFemaleLead, Hards...</td>\n",
       "      <td>[KimWonSuk,KimSangWoo]</td>\n",
       "      <td>[ParkHaeYoung]</td>\n",
       "      <td>[LeeSunKyun, IU, ParkHoSan, SongSaeByuk, LeeJi...</td>\n",
       "    </tr>\n",
       "  </tbody>\n",
       "</table>\n",
       "</div>"
      ],
      "text/plain": [
       "                  Name                                           Synopsis  \\\n",
       "0       Move to Heaven  [Geu, Roo, is, a, young, autistic, man., He, w...   \n",
       "1       Flower of Evil  [Although, Baek, Hee, Sung, is, hiding, a, dar...   \n",
       "2    Hospital Playlist  [The, stories, of, people, going, through, the...   \n",
       "3  Hospital Playlist 2  [Everyday, is, extraordinary, for, five, docto...   \n",
       "4            My Mister  [Park, Dong, Hoon, is, a, middle-aged, enginee...   \n",
       "\n",
       "                                   Genre  \\\n",
       "0                  [Life, Drama, Family]   \n",
       "1  [Thriller, Romance, Crime, Melodrama]   \n",
       "2   [Friendship, Romance, Life, Medical]   \n",
       "3   [Friendship, Romance, Life, Medical]   \n",
       "4   [Psychological, Life, Drama, Family]   \n",
       "\n",
       "                                                Tags                 Director  \\\n",
       "0  [Autism, Uncle-NephewRelationship, Death, Sava...              [KimSungHo]   \n",
       "1  [MarriedCouple, Deception, Suspense, FamilySec...  [KimChulGyu,YoonJongHo]   \n",
       "2  [StrongFriendship, MultipleMains, BestFriends,...              [ShinWonHo]   \n",
       "3  [Workplace, StrongFriendship, BestFriends, Mul...              [ShinWonHo]   \n",
       "4  [AgeGap, NiceMaleLead, StrongFemaleLead, Hards...   [KimWonSuk,KimSangWoo]   \n",
       "\n",
       "     Screenwriter                                               Cast  \n",
       "0    [YoonJiRyun]  [LeeJeHoon, TangJunSang, HongSeungHee, JungSuk...  \n",
       "1    [YooJungHee]  [LeeJoonGi, MoonChaeWon, JangHeeJin, SeoHyunWo...  \n",
       "2    [LeeWooJung]  [JoJungSuk, YooYeonSeok, JungKyungHo, KimDaeMy...  \n",
       "3    [LeeWooJung]  [JoJungSuk, YooYeonSeok, JungKyungHo, KimDaeMy...  \n",
       "4  [ParkHaeYoung]  [LeeSunKyun, IU, ParkHoSan, SongSaeByuk, LeeJi...  "
      ]
     },
     "execution_count": 27,
     "metadata": {},
     "output_type": "execute_result"
    }
   ],
   "source": [
    "kdramas.head()"
   ]
  },
  {
   "cell_type": "code",
   "execution_count": 28,
   "id": "be8ba7e8",
   "metadata": {},
   "outputs": [],
   "source": [
    "kdramas['Tags'] = kdramas['Synopsis'] + kdramas['Genre'] + kdramas['Tags'] + kdramas['Director'] + kdramas['Screenwriter']"
   ]
  },
  {
   "cell_type": "code",
   "execution_count": 29,
   "id": "828e79d0",
   "metadata": {},
   "outputs": [
    {
     "data": {
      "text/html": [
       "<div>\n",
       "<style scoped>\n",
       "    .dataframe tbody tr th:only-of-type {\n",
       "        vertical-align: middle;\n",
       "    }\n",
       "\n",
       "    .dataframe tbody tr th {\n",
       "        vertical-align: top;\n",
       "    }\n",
       "\n",
       "    .dataframe thead th {\n",
       "        text-align: right;\n",
       "    }\n",
       "</style>\n",
       "<table border=\"1\" class=\"dataframe\">\n",
       "  <thead>\n",
       "    <tr style=\"text-align: right;\">\n",
       "      <th></th>\n",
       "      <th>Name</th>\n",
       "      <th>Tags</th>\n",
       "    </tr>\n",
       "  </thead>\n",
       "  <tbody>\n",
       "    <tr>\n",
       "      <th>0</th>\n",
       "      <td>Move to Heaven</td>\n",
       "      <td>[Geu, Roo, is, a, young, autistic, man., He, w...</td>\n",
       "    </tr>\n",
       "    <tr>\n",
       "      <th>1</th>\n",
       "      <td>Flower of Evil</td>\n",
       "      <td>[Although, Baek, Hee, Sung, is, hiding, a, dar...</td>\n",
       "    </tr>\n",
       "    <tr>\n",
       "      <th>2</th>\n",
       "      <td>Hospital Playlist</td>\n",
       "      <td>[The, stories, of, people, going, through, the...</td>\n",
       "    </tr>\n",
       "    <tr>\n",
       "      <th>3</th>\n",
       "      <td>Hospital Playlist 2</td>\n",
       "      <td>[Everyday, is, extraordinary, for, five, docto...</td>\n",
       "    </tr>\n",
       "    <tr>\n",
       "      <th>4</th>\n",
       "      <td>My Mister</td>\n",
       "      <td>[Park, Dong, Hoon, is, a, middle-aged, enginee...</td>\n",
       "    </tr>\n",
       "  </tbody>\n",
       "</table>\n",
       "</div>"
      ],
      "text/plain": [
       "                  Name                                               Tags\n",
       "0       Move to Heaven  [Geu, Roo, is, a, young, autistic, man., He, w...\n",
       "1       Flower of Evil  [Although, Baek, Hee, Sung, is, hiding, a, dar...\n",
       "2    Hospital Playlist  [The, stories, of, people, going, through, the...\n",
       "3  Hospital Playlist 2  [Everyday, is, extraordinary, for, five, docto...\n",
       "4            My Mister  [Park, Dong, Hoon, is, a, middle-aged, enginee..."
      ]
     },
     "execution_count": 29,
     "metadata": {},
     "output_type": "execute_result"
    }
   ],
   "source": [
    "new_data = kdramas[['Name', 'Tags']]\n",
    "new_data.head()"
   ]
  },
  {
   "cell_type": "code",
   "execution_count": 30,
   "id": "f300a348",
   "metadata": {},
   "outputs": [
    {
     "name": "stderr",
     "output_type": "stream",
     "text": [
      "/var/folders/f7/55bjd51d77b3khf4jzxg1vtw0000gn/T/ipykernel_63370/1270205916.py:1: SettingWithCopyWarning: \n",
      "A value is trying to be set on a copy of a slice from a DataFrame.\n",
      "Try using .loc[row_indexer,col_indexer] = value instead\n",
      "\n",
      "See the caveats in the documentation: https://pandas.pydata.org/pandas-docs/stable/user_guide/indexing.html#returning-a-view-versus-a-copy\n",
      "  new_data['Tags'] = new_data['Tags'].apply(lambda x : ' '.join(x))\n"
     ]
    }
   ],
   "source": [
    "new_data['Tags'] = new_data['Tags'].apply(lambda x : ' '.join(x))"
   ]
  },
  {
   "cell_type": "code",
   "execution_count": 32,
   "id": "92157197",
   "metadata": {},
   "outputs": [
    {
     "data": {
      "text/html": [
       "<div>\n",
       "<style scoped>\n",
       "    .dataframe tbody tr th:only-of-type {\n",
       "        vertical-align: middle;\n",
       "    }\n",
       "\n",
       "    .dataframe tbody tr th {\n",
       "        vertical-align: top;\n",
       "    }\n",
       "\n",
       "    .dataframe thead th {\n",
       "        text-align: right;\n",
       "    }\n",
       "</style>\n",
       "<table border=\"1\" class=\"dataframe\">\n",
       "  <thead>\n",
       "    <tr style=\"text-align: right;\">\n",
       "      <th></th>\n",
       "      <th>Name</th>\n",
       "      <th>Tags</th>\n",
       "    </tr>\n",
       "  </thead>\n",
       "  <tbody>\n",
       "    <tr>\n",
       "      <th>0</th>\n",
       "      <td>Move to Heaven</td>\n",
       "      <td>Geu Roo is a young autistic man. He works for ...</td>\n",
       "    </tr>\n",
       "    <tr>\n",
       "      <th>1</th>\n",
       "      <td>Flower of Evil</td>\n",
       "      <td>Although Baek Hee Sung is hiding a dark secret...</td>\n",
       "    </tr>\n",
       "    <tr>\n",
       "      <th>2</th>\n",
       "      <td>Hospital Playlist</td>\n",
       "      <td>The stories of people going through their days...</td>\n",
       "    </tr>\n",
       "    <tr>\n",
       "      <th>3</th>\n",
       "      <td>Hospital Playlist 2</td>\n",
       "      <td>Everyday is extraordinary for five doctors and...</td>\n",
       "    </tr>\n",
       "    <tr>\n",
       "      <th>4</th>\n",
       "      <td>My Mister</td>\n",
       "      <td>Park Dong Hoon is a middle-aged engineer who i...</td>\n",
       "    </tr>\n",
       "  </tbody>\n",
       "</table>\n",
       "</div>"
      ],
      "text/plain": [
       "                  Name                                               Tags\n",
       "0       Move to Heaven  Geu Roo is a young autistic man. He works for ...\n",
       "1       Flower of Evil  Although Baek Hee Sung is hiding a dark secret...\n",
       "2    Hospital Playlist  The stories of people going through their days...\n",
       "3  Hospital Playlist 2  Everyday is extraordinary for five doctors and...\n",
       "4            My Mister  Park Dong Hoon is a middle-aged engineer who i..."
      ]
     },
     "execution_count": 32,
     "metadata": {},
     "output_type": "execute_result"
    }
   ],
   "source": [
    "new_data.head()"
   ]
  },
  {
   "cell_type": "code",
   "execution_count": 33,
   "id": "12760b03",
   "metadata": {},
   "outputs": [
    {
     "name": "stderr",
     "output_type": "stream",
     "text": [
      "/var/folders/f7/55bjd51d77b3khf4jzxg1vtw0000gn/T/ipykernel_63370/200573328.py:1: SettingWithCopyWarning: \n",
      "A value is trying to be set on a copy of a slice from a DataFrame.\n",
      "Try using .loc[row_indexer,col_indexer] = value instead\n",
      "\n",
      "See the caveats in the documentation: https://pandas.pydata.org/pandas-docs/stable/user_guide/indexing.html#returning-a-view-versus-a-copy\n",
      "  new_data['Tags'] = new_data['Tags'].apply(lambda x : x.lower())\n"
     ]
    }
   ],
   "source": [
    "new_data['Tags'] = new_data['Tags'].apply(lambda x : x.lower())"
   ]
  },
  {
   "cell_type": "code",
   "execution_count": 34,
   "id": "49d24d8b",
   "metadata": {},
   "outputs": [
    {
     "data": {
      "text/html": [
       "<div>\n",
       "<style scoped>\n",
       "    .dataframe tbody tr th:only-of-type {\n",
       "        vertical-align: middle;\n",
       "    }\n",
       "\n",
       "    .dataframe tbody tr th {\n",
       "        vertical-align: top;\n",
       "    }\n",
       "\n",
       "    .dataframe thead th {\n",
       "        text-align: right;\n",
       "    }\n",
       "</style>\n",
       "<table border=\"1\" class=\"dataframe\">\n",
       "  <thead>\n",
       "    <tr style=\"text-align: right;\">\n",
       "      <th></th>\n",
       "      <th>Name</th>\n",
       "      <th>Tags</th>\n",
       "    </tr>\n",
       "  </thead>\n",
       "  <tbody>\n",
       "    <tr>\n",
       "      <th>0</th>\n",
       "      <td>Move to Heaven</td>\n",
       "      <td>geu roo is a young autistic man. he works for ...</td>\n",
       "    </tr>\n",
       "    <tr>\n",
       "      <th>1</th>\n",
       "      <td>Flower of Evil</td>\n",
       "      <td>although baek hee sung is hiding a dark secret...</td>\n",
       "    </tr>\n",
       "    <tr>\n",
       "      <th>2</th>\n",
       "      <td>Hospital Playlist</td>\n",
       "      <td>the stories of people going through their days...</td>\n",
       "    </tr>\n",
       "    <tr>\n",
       "      <th>3</th>\n",
       "      <td>Hospital Playlist 2</td>\n",
       "      <td>everyday is extraordinary for five doctors and...</td>\n",
       "    </tr>\n",
       "    <tr>\n",
       "      <th>4</th>\n",
       "      <td>My Mister</td>\n",
       "      <td>park dong hoon is a middle-aged engineer who i...</td>\n",
       "    </tr>\n",
       "  </tbody>\n",
       "</table>\n",
       "</div>"
      ],
      "text/plain": [
       "                  Name                                               Tags\n",
       "0       Move to Heaven  geu roo is a young autistic man. he works for ...\n",
       "1       Flower of Evil  although baek hee sung is hiding a dark secret...\n",
       "2    Hospital Playlist  the stories of people going through their days...\n",
       "3  Hospital Playlist 2  everyday is extraordinary for five doctors and...\n",
       "4            My Mister  park dong hoon is a middle-aged engineer who i..."
      ]
     },
     "execution_count": 34,
     "metadata": {},
     "output_type": "execute_result"
    }
   ],
   "source": [
    "new_data.head()"
   ]
  },
  {
   "cell_type": "code",
   "execution_count": 39,
   "id": "581db2e8",
   "metadata": {},
   "outputs": [],
   "source": [
    "import nltk \n",
    "from nltk.stem.porter import PorterStemmer\n",
    "ps = PorterStemmer()"
   ]
  },
  {
   "cell_type": "code",
   "execution_count": 40,
   "id": "e91a1110",
   "metadata": {},
   "outputs": [],
   "source": [
    "def stem_text(text):\n",
    "    return ' '.join([ps.stem(i) for i in text.split()])"
   ]
  },
  {
   "cell_type": "code",
   "execution_count": 41,
   "id": "c190590b",
   "metadata": {},
   "outputs": [
    {
     "data": {
      "text/plain": [
       "0      geu roo is a young autist man. he work for hi ...\n",
       "1      although baek hee sung is hide a dark secret s...\n",
       "2      the stori of peopl go through their day that a...\n",
       "3      everyday is extraordinari for five doctor and ...\n",
       "4      park dong hoon is a middle-ag engin who is mar...\n",
       "                             ...                        \n",
       "245    heo im, who is born in a concubin famili in th...\n",
       "246    thi drama is about the love stori between king...\n",
       "247    park tae suk is a lawyer who find out that he ...\n",
       "248    in 2017, son oh gong and ma wang are in confli...\n",
       "249    a serial killer with an enhanc hear ability, i...\n",
       "Name: Tags, Length: 249, dtype: object"
      ]
     },
     "execution_count": 41,
     "metadata": {},
     "output_type": "execute_result"
    }
   ],
   "source": [
    "new_data['Tags'].apply(stem_text)"
   ]
  },
  {
   "cell_type": "code",
   "execution_count": 42,
   "id": "b06c44f6",
   "metadata": {},
   "outputs": [],
   "source": [
    "from sklearn.feature_extraction.text import CountVectorizer\n",
    "cv = CountVectorizer(max_features = 2500, stop_words = 'english')\n",
    "vectors = cv.fit_transform(new_data['Tags']).toarray()"
   ]
  },
  {
   "cell_type": "code",
   "execution_count": 43,
   "id": "9594238d",
   "metadata": {},
   "outputs": [],
   "source": [
    "from sklearn.metrics.pairwise import cosine_similarity\n",
    "similarity = cosine_similarity(vectors)"
   ]
  },
  {
   "cell_type": "code",
   "execution_count": 60,
   "id": "5ad1c1f8",
   "metadata": {},
   "outputs": [],
   "source": [
    "import matplotlib.pyplot as plt\n",
    "def recommend(drama):\n",
    "    index = new_data[new_data['Name'] == drama].index[0]\n",
    "    distances = similarity[index]\n",
    "    dramas = sorted(list(enumerate(similarity[index])), reverse = True, key = lambda x: x[1])[1:6]\n",
    "    recommended_dramas = []\n",
    "    similarity_scores = []\n",
    "    \n",
    "    for drama_info in dramas:\n",
    "        recommended_drama = new_data.iloc[drama_info[0]].Name\n",
    "        similarity_score = drama_info[1]\n",
    "        recommended_dramas.append(recommended_drama)\n",
    "        similarity_scores.append(similarity_score)\n",
    "    plt.figure(figsize=(10, 6))\n",
    "    plt.barh(recommended_dramas, similarity_scores, color='skyblue')\n",
    "    plt.xlabel('Similarity Score')\n",
    "    plt.ylabel('Recommended Dramas')\n",
    "    plt.title(f'Recommended Dramas based on Similarity to \"{drama}\"')\n",
    "    plt.gca().invert_yaxis()  # Invert y-axis to have the highest similarity at the top\n",
    "    plt.show()"
   ]
  },
  {
   "cell_type": "code",
   "execution_count": 61,
   "id": "348c6e5c",
   "metadata": {},
   "outputs": [
    {
     "data": {
      "image/png": "[encoded data removed]",
      "text/plain": [
       "<Figure size 1000x600 with 1 Axes>"
      ]
     },
     "metadata": {},
     "output_type": "display_data"
    }
   ],
   "source": [
    "recommend('Hospital Playlist')"
   ]
  },
  {
   "cell_type": "code",
   "execution_count": null,
   "id": "93f096b7",
   "metadata": {},
   "outputs": [],
   "source": []
  }
 ],
 "metadata": {
  "kernelspec": {
   "display_name": "Python 3 (ipykernel)",
   "language": "python",
   "name": "python3"
  },
  "language_info": {
   "codemirror_mode": {
    "name": "ipython",
    "version": 3
   },
   "file_extension": ".py",
   "mimetype": "text/x-python",
   "name": "python",
   "nbconvert_exporter": "python",
   "pygments_lexer": "ipython3",
   "version": "3.11.3"
  }
 },
 "nbformat": 4,
 "nbformat_minor": 5
}
